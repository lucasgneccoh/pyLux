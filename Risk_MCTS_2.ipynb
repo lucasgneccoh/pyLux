{
  "nbformat": 4,
  "nbformat_minor": 0,
  "metadata": {
    "colab": {
      "name": "Risk MCTS.ipynb",
      "provenance": [],
      "authorship_tag": "ABX9TyN5b/xpc54OumhM9M0OY1Bc",
      "include_colab_link": true
    },
    "kernelspec": {
      "name": "python3",
      "display_name": "Python 3"
    },
    "language_info": {
      "name": "python"
    }
  },
  "cells": [
    {
      "cell_type": "markdown",
      "metadata": {
        "id": "view-in-github",
        "colab_type": "text"
      },
      "source": [
        "<a href=\"https://colab.research.google.com/github/lucasgneccoh/pyLux/blob/main/Risk_MCTS.ipynb\" target=\"_parent\"><img src=\"https://colab.research.google.com/assets/colab-badge.svg\" alt=\"Open In Colab\"/></a>"
      ]
    },
    {
      "cell_type": "code",
      "metadata": {
        "colab": {
          "base_uri": "https://localhost:8080/"
        },
        "id": "HUzNfUhyxW3S",
        "outputId": "1a51ddb0-c551-48fe-b1f8-96c470b60254"
      },
      "source": [
        "%cd /content\n",
        "!git clone https://github.com/lucasgneccoh/pyLux.git"
      ],
      "execution_count": 1,
      "outputs": [
        {
          "output_type": "stream",
          "text": [
            "/content\n"
          ],
          "name": "stdout"
        }
      ]
    }
  ]
}